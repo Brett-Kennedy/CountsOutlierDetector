{
 "cells": [
  {
   "cell_type": "code",
   "execution_count": 1,
   "id": "64972e69",
   "metadata": {},
   "outputs": [],
   "source": [
    "import pandas as pd\n",
    "import numpy as np\n",
    "from sklearn.datasets import fetch_openml\n",
    "import sys\n",
    "\n",
    "sys.path.insert(0, '..\\\\CountsOutlierDetector')\n",
    "from counts_outlier_detector import CountsOutlierDetector"
   ]
  },
  {
   "cell_type": "code",
   "execution_count": 2,
   "id": "dfc4a1a2",
   "metadata": {},
   "outputs": [],
   "source": [
    "# This notebook provides an example of running CountsOutlierDetector\n",
    "# on a file from OpenML. The uses the 'abalone' dataset. The \n",
    "# detector checks up to six dimensions, and finds outliers up to \n",
    "# three dimensions. Some API calls are made to explain the outliers\n",
    "# identified. "
   ]
  },
  {
   "cell_type": "code",
   "execution_count": 3,
   "id": "62d69284",
   "metadata": {},
   "outputs": [],
   "source": [
    "pd.options.display.max_columns = 1000\n",
    "pd.options.display.max_colwidth = 1000\n",
    "pd.options.display.max_rows = 1000\n",
    "pd.options.display.width = 10000"
   ]
  },
  {
   "cell_type": "code",
   "execution_count": 4,
   "id": "806584f4",
   "metadata": {
    "scrolled": false
   },
   "outputs": [
    {
     "data": {
      "text/html": [
       "<div>\n",
       "<style scoped>\n",
       "    .dataframe tbody tr th:only-of-type {\n",
       "        vertical-align: middle;\n",
       "    }\n",
       "\n",
       "    .dataframe tbody tr th {\n",
       "        vertical-align: top;\n",
       "    }\n",
       "\n",
       "    .dataframe thead th {\n",
       "        text-align: right;\n",
       "    }\n",
       "</style>\n",
       "<table border=\"1\" class=\"dataframe\">\n",
       "  <thead>\n",
       "    <tr style=\"text-align: right;\">\n",
       "      <th></th>\n",
       "      <th>Sex</th>\n",
       "      <th>Length</th>\n",
       "      <th>Diameter</th>\n",
       "      <th>Height</th>\n",
       "      <th>Whole_weight</th>\n",
       "      <th>Shucked_weight</th>\n",
       "      <th>Viscera_weight</th>\n",
       "      <th>Shell_weight</th>\n",
       "    </tr>\n",
       "  </thead>\n",
       "  <tbody>\n",
       "    <tr>\n",
       "      <th>0</th>\n",
       "      <td>M</td>\n",
       "      <td>0.455</td>\n",
       "      <td>0.365</td>\n",
       "      <td>0.095</td>\n",
       "      <td>0.5140</td>\n",
       "      <td>0.2245</td>\n",
       "      <td>0.1010</td>\n",
       "      <td>0.150</td>\n",
       "    </tr>\n",
       "    <tr>\n",
       "      <th>1</th>\n",
       "      <td>M</td>\n",
       "      <td>0.350</td>\n",
       "      <td>0.265</td>\n",
       "      <td>0.090</td>\n",
       "      <td>0.2255</td>\n",
       "      <td>0.0995</td>\n",
       "      <td>0.0485</td>\n",
       "      <td>0.070</td>\n",
       "    </tr>\n",
       "    <tr>\n",
       "      <th>2</th>\n",
       "      <td>F</td>\n",
       "      <td>0.530</td>\n",
       "      <td>0.420</td>\n",
       "      <td>0.135</td>\n",
       "      <td>0.6770</td>\n",
       "      <td>0.2565</td>\n",
       "      <td>0.1415</td>\n",
       "      <td>0.210</td>\n",
       "    </tr>\n",
       "    <tr>\n",
       "      <th>3</th>\n",
       "      <td>M</td>\n",
       "      <td>0.440</td>\n",
       "      <td>0.365</td>\n",
       "      <td>0.125</td>\n",
       "      <td>0.5160</td>\n",
       "      <td>0.2155</td>\n",
       "      <td>0.1140</td>\n",
       "      <td>0.155</td>\n",
       "    </tr>\n",
       "    <tr>\n",
       "      <th>4</th>\n",
       "      <td>I</td>\n",
       "      <td>0.330</td>\n",
       "      <td>0.255</td>\n",
       "      <td>0.080</td>\n",
       "      <td>0.2050</td>\n",
       "      <td>0.0895</td>\n",
       "      <td>0.0395</td>\n",
       "      <td>0.055</td>\n",
       "    </tr>\n",
       "  </tbody>\n",
       "</table>\n",
       "</div>"
      ],
      "text/plain": [
       "  Sex  Length  Diameter  Height  Whole_weight  Shucked_weight  Viscera_weight  Shell_weight\n",
       "0   M   0.455     0.365   0.095        0.5140          0.2245          0.1010         0.150\n",
       "1   M   0.350     0.265   0.090        0.2255          0.0995          0.0485         0.070\n",
       "2   F   0.530     0.420   0.135        0.6770          0.2565          0.1415         0.210\n",
       "3   M   0.440     0.365   0.125        0.5160          0.2155          0.1140         0.155\n",
       "4   I   0.330     0.255   0.080        0.2050          0.0895          0.0395         0.055"
      ]
     },
     "metadata": {},
     "output_type": "display_data"
    },
    {
     "name": "stdout",
     "output_type": "stream",
     "text": [
      "Examining subspaces of dimension 1\n",
      "Examining subspaces of dimension 2\n",
      "Examining subspaces of dimension 3\n",
      "Examining subspaces of dimension 4\n",
      "Examining subspaces of dimension 5\n",
      "Examining subspaces of dimension 6\n"
     ]
    },
    {
     "data": {
      "text/html": [
       "<div>\n",
       "<style scoped>\n",
       "    .dataframe tbody tr th:only-of-type {\n",
       "        vertical-align: middle;\n",
       "    }\n",
       "\n",
       "    .dataframe tbody tr th {\n",
       "        vertical-align: top;\n",
       "    }\n",
       "\n",
       "    .dataframe thead th {\n",
       "        text-align: right;\n",
       "    }\n",
       "</style>\n",
       "<table border=\"1\" class=\"dataframe\">\n",
       "  <thead>\n",
       "    <tr style=\"text-align: right;\">\n",
       "      <th></th>\n",
       "      <th>Checked_2d</th>\n",
       "      <th>Checked_3d</th>\n",
       "      <th>Checked_4d</th>\n",
       "      <th>Checked_5d</th>\n",
       "      <th>Checked_6d</th>\n",
       "      <th>Percent Flagged as 1d</th>\n",
       "      <th>Percent Flagged as 2d</th>\n",
       "      <th>Percent Flagged as 3d</th>\n",
       "      <th>Percent Flagged as 4d</th>\n",
       "      <th>Percent Flagged as 5d</th>\n",
       "      <th>Percent Flagged as 6d</th>\n",
       "      <th>Percent Flagged up to 1d</th>\n",
       "      <th>Percent Flagged up to 2d</th>\n",
       "      <th>Percent Flagged up to 3d</th>\n",
       "      <th>Percent Flagged up to 4d</th>\n",
       "      <th>Percent Flagged up to 5d</th>\n",
       "      <th>Percent Flagged up to 6d</th>\n",
       "      <th>Percent Flagged</th>\n",
       "    </tr>\n",
       "  </thead>\n",
       "  <tbody>\n",
       "    <tr>\n",
       "      <th>0</th>\n",
       "      <td>True</td>\n",
       "      <td>True</td>\n",
       "      <td>True</td>\n",
       "      <td>True</td>\n",
       "      <td>True</td>\n",
       "      <td>1.077328</td>\n",
       "      <td>5.147235</td>\n",
       "      <td>4.97965</td>\n",
       "      <td>0.0</td>\n",
       "      <td>0.0</td>\n",
       "      <td>0.0</td>\n",
       "      <td>1.077328</td>\n",
       "      <td>5.530285</td>\n",
       "      <td>8.427101</td>\n",
       "      <td>8.427101</td>\n",
       "      <td>8.427101</td>\n",
       "      <td>8.427101</td>\n",
       "      <td>8.427101</td>\n",
       "    </tr>\n",
       "  </tbody>\n",
       "</table>\n",
       "</div>"
      ],
      "text/plain": [
       "   Checked_2d  Checked_3d  Checked_4d  Checked_5d  Checked_6d  Percent Flagged as 1d  Percent Flagged as 2d  Percent Flagged as 3d  Percent Flagged as 4d  Percent Flagged as 5d  Percent Flagged as 6d  Percent Flagged up to 1d  Percent Flagged up to 2d  Percent Flagged up to 3d  Percent Flagged up to 4d  Percent Flagged up to 5d  Percent Flagged up to 6d  Percent Flagged\n",
       "0        True        True        True        True        True               1.077328               5.147235                4.97965                    0.0                    0.0                    0.0                  1.077328                  5.530285                  8.427101                  8.427101                  8.427101                  8.427101         8.427101"
      ]
     },
     "metadata": {},
     "output_type": "display_data"
    },
    {
     "data": {
      "text/html": [
       "<div>\n",
       "<style scoped>\n",
       "    .dataframe tbody tr th:only-of-type {\n",
       "        vertical-align: middle;\n",
       "    }\n",
       "\n",
       "    .dataframe tbody tr th {\n",
       "        vertical-align: top;\n",
       "    }\n",
       "\n",
       "    .dataframe thead th {\n",
       "        text-align: right;\n",
       "    }\n",
       "</style>\n",
       "<table border=\"1\" class=\"dataframe\">\n",
       "  <thead>\n",
       "    <tr style=\"text-align: right;\">\n",
       "      <th></th>\n",
       "      <th>TOTAL SCORE</th>\n",
       "      <th>Sex</th>\n",
       "      <th>Length</th>\n",
       "      <th>Diameter</th>\n",
       "      <th>Height</th>\n",
       "      <th>Whole_weight</th>\n",
       "      <th>Shucked_weight</th>\n",
       "      <th>Viscera_weight</th>\n",
       "      <th>Shell_weight</th>\n",
       "    </tr>\n",
       "  </thead>\n",
       "  <tbody>\n",
       "    <tr>\n",
       "      <th>2407</th>\n",
       "      <td>9</td>\n",
       "      <td>1</td>\n",
       "      <td>2</td>\n",
       "      <td>1</td>\n",
       "      <td>0</td>\n",
       "      <td>1</td>\n",
       "      <td>1</td>\n",
       "      <td>1</td>\n",
       "      <td>1</td>\n",
       "    </tr>\n",
       "    <tr>\n",
       "      <th>985</th>\n",
       "      <td>8</td>\n",
       "      <td>2</td>\n",
       "      <td>2</td>\n",
       "      <td>1</td>\n",
       "      <td>0</td>\n",
       "      <td>1</td>\n",
       "      <td>1</td>\n",
       "      <td>0</td>\n",
       "      <td>1</td>\n",
       "    </tr>\n",
       "    <tr>\n",
       "      <th>2986</th>\n",
       "      <td>8</td>\n",
       "      <td>2</td>\n",
       "      <td>1</td>\n",
       "      <td>1</td>\n",
       "      <td>0</td>\n",
       "      <td>1</td>\n",
       "      <td>1</td>\n",
       "      <td>1</td>\n",
       "      <td>1</td>\n",
       "    </tr>\n",
       "    <tr>\n",
       "      <th>4110</th>\n",
       "      <td>8</td>\n",
       "      <td>2</td>\n",
       "      <td>1</td>\n",
       "      <td>1</td>\n",
       "      <td>0</td>\n",
       "      <td>1</td>\n",
       "      <td>1</td>\n",
       "      <td>1</td>\n",
       "      <td>1</td>\n",
       "    </tr>\n",
       "    <tr>\n",
       "      <th>4112</th>\n",
       "      <td>8</td>\n",
       "      <td>0</td>\n",
       "      <td>1</td>\n",
       "      <td>1</td>\n",
       "      <td>0</td>\n",
       "      <td>1</td>\n",
       "      <td>1</td>\n",
       "      <td>1</td>\n",
       "      <td>1</td>\n",
       "    </tr>\n",
       "  </tbody>\n",
       "</table>\n",
       "</div>"
      ],
      "text/plain": [
       "      TOTAL SCORE  Sex  Length  Diameter  Height  Whole_weight  Shucked_weight  Viscera_weight  Shell_weight\n",
       "2407            9    1       2         1       0             1               1               1             1\n",
       "985             8    2       2         1       0             1               1               0             1\n",
       "2986            8    2       1         1       0             1               1               1             1\n",
       "4110            8    2       1         1       0             1               1               1             1\n",
       "4112            8    0       1         1       0             1               1               1             1"
      ]
     },
     "metadata": {},
     "output_type": "display_data"
    },
    {
     "data": {
      "text/markdown": [
       "**Explanation row number**: 2407"
      ],
      "text/plain": [
       "<IPython.core.display.Markdown object>"
      ]
     },
     "metadata": {},
     "output_type": "display_data"
    },
    {
     "data": {
      "text/markdown": [
       "**Total score**: 9"
      ],
      "text/plain": [
       "<IPython.core.display.Markdown object>"
      ]
     },
     "metadata": {},
     "output_type": "display_data"
    },
    {
     "data": {
      "text/markdown": [
       "### Unusual values in column Sex (I), column Diameter (0.43: Med), column Whole_weight (1.411: Med)"
      ],
      "text/plain": [
       "<IPython.core.display.Markdown object>"
      ]
     },
     "metadata": {},
     "output_type": "display_data"
    },
    {
     "data": {
      "image/png": "[encoded data removed]",
      "text/plain": [
       "<Figure size 432x288 with 1 Axes>"
      ]
     },
     "metadata": {
      "needs_background": "light"
     },
     "output_type": "display_data"
    },
    {
     "data": {
      "text/markdown": [
       "### Unusual values in column Length (0.625: High), column Diameter (0.43: Med), column Shucked_weight (0.572: Med)"
      ],
      "text/plain": [
       "<IPython.core.display.Markdown object>"
      ]
     },
     "metadata": {},
     "output_type": "display_data"
    },
    {
     "data": {
      "image/png": "[encoded data removed]",
      "text/plain": [
       "<Figure size 432x288 with 1 Axes>"
      ]
     },
     "metadata": {
      "needs_background": "light"
     },
     "output_type": "display_data"
    },
    {
     "data": {
      "text/markdown": [
       "### Unusual values in column Length (0.625: High), column Diameter (0.43: Med), column Shell_weight (0.395: Med)"
      ],
      "text/plain": [
       "<IPython.core.display.Markdown object>"
      ]
     },
     "metadata": {},
     "output_type": "display_data"
    },
    {
     "data": {
      "image/png": "[encoded data removed]",
      "text/plain": [
       "<Figure size 432x288 with 1 Axes>"
      ]
     },
     "metadata": {
      "needs_background": "light"
     },
     "output_type": "display_data"
    },
    {
     "data": {
      "text/markdown": [
       "### Unusual values in column Diameter (0.43: Med), column Whole_weight (1.411: Med), column Shell_weight (0.395: Med)"
      ],
      "text/plain": [
       "<IPython.core.display.Markdown object>"
      ]
     },
     "metadata": {},
     "output_type": "display_data"
    },
    {
     "data": {
      "image/png": "[encoded data removed]",
      "text/plain": [
       "<Figure size 432x288 with 1 Axes>"
      ]
     },
     "metadata": {
      "needs_background": "light"
     },
     "output_type": "display_data"
    },
    {
     "data": {
      "text/markdown": [
       "### Unusual values in column Diameter (0.43: Med), column Shucked_weight (0.572: Med), column Shell_weight (0.395: Med)"
      ],
      "text/plain": [
       "<IPython.core.display.Markdown object>"
      ]
     },
     "metadata": {},
     "output_type": "display_data"
    },
    {
     "data": {
      "image/png": "[encoded data removed]",
      "text/plain": [
       "<Figure size 432x288 with 1 Axes>"
      ]
     },
     "metadata": {
      "needs_background": "light"
     },
     "output_type": "display_data"
    }
   ],
   "source": [
    "data = fetch_openml('abalone', version=1, parser='auto')\n",
    "df = pd.DataFrame(data.data, columns=data.feature_names)\n",
    "display(df.head())\n",
    "\n",
    "# This provides an example of setting some parameters to non-default values,\n",
    "# which can provide somewhat different results.\n",
    "det = CountsOutlierDetector(n_bins=3, max_dimensions=6, threshold=0.25, verbose=True)\n",
    "results = det.predict(df)\n",
    "display(results['Flagged Summary'])\n",
    "\n",
    "display(det.get_most_flagged_rows().head())\n",
    "most_flagged = int(det.get_most_flagged_rows().index[0])\n",
    "det.explain_row(most_flagged)"
   ]
  },
  {
   "cell_type": "code",
   "execution_count": 5,
   "id": "3b467788",
   "metadata": {},
   "outputs": [
    {
     "data": {
      "text/html": [
       "<div>\n",
       "<style scoped>\n",
       "    .dataframe tbody tr th:only-of-type {\n",
       "        vertical-align: middle;\n",
       "    }\n",
       "\n",
       "    .dataframe tbody tr th {\n",
       "        vertical-align: top;\n",
       "    }\n",
       "\n",
       "    .dataframe thead th {\n",
       "        text-align: right;\n",
       "    }\n",
       "</style>\n",
       "<table border=\"1\" class=\"dataframe\">\n",
       "  <thead>\n",
       "    <tr style=\"text-align: right;\">\n",
       "      <th></th>\n",
       "      <th>Diameter</th>\n",
       "      <th>Shucked_weight</th>\n",
       "      <th>Shell_weight</th>\n",
       "      <th>Count</th>\n",
       "    </tr>\n",
       "  </thead>\n",
       "  <tbody>\n",
       "    <tr>\n",
       "      <th>2</th>\n",
       "      <td>Med</td>\n",
       "      <td>Low</td>\n",
       "      <td>Low</td>\n",
       "      <td>2164</td>\n",
       "    </tr>\n",
       "    <tr>\n",
       "      <th>9</th>\n",
       "      <td>High</td>\n",
       "      <td>Med</td>\n",
       "      <td>Med</td>\n",
       "      <td>657</td>\n",
       "    </tr>\n",
       "    <tr>\n",
       "      <th>6</th>\n",
       "      <td>High</td>\n",
       "      <td>Low</td>\n",
       "      <td>Low</td>\n",
       "      <td>369</td>\n",
       "    </tr>\n",
       "    <tr>\n",
       "      <th>0</th>\n",
       "      <td>Low</td>\n",
       "      <td>Low</td>\n",
       "      <td>Low</td>\n",
       "      <td>336</td>\n",
       "    </tr>\n",
       "    <tr>\n",
       "      <th>8</th>\n",
       "      <td>High</td>\n",
       "      <td>Med</td>\n",
       "      <td>Low</td>\n",
       "      <td>307</td>\n",
       "    </tr>\n",
       "    <tr>\n",
       "      <th>7</th>\n",
       "      <td>High</td>\n",
       "      <td>Low</td>\n",
       "      <td>Med</td>\n",
       "      <td>197</td>\n",
       "    </tr>\n",
       "    <tr>\n",
       "      <th>11</th>\n",
       "      <td>High</td>\n",
       "      <td>High</td>\n",
       "      <td>Med</td>\n",
       "      <td>40</td>\n",
       "    </tr>\n",
       "    <tr>\n",
       "      <th>4</th>\n",
       "      <td>Med</td>\n",
       "      <td>Med</td>\n",
       "      <td>Low</td>\n",
       "      <td>37</td>\n",
       "    </tr>\n",
       "    <tr>\n",
       "      <th>3</th>\n",
       "      <td>Med</td>\n",
       "      <td>Low</td>\n",
       "      <td>Med</td>\n",
       "      <td>34</td>\n",
       "    </tr>\n",
       "    <tr>\n",
       "      <th>10</th>\n",
       "      <td>High</td>\n",
       "      <td>Med</td>\n",
       "      <td>High</td>\n",
       "      <td>18</td>\n",
       "    </tr>\n",
       "    <tr>\n",
       "      <th>5</th>\n",
       "      <td>Med</td>\n",
       "      <td>Med</td>\n",
       "      <td>Med</td>\n",
       "      <td>13</td>\n",
       "    </tr>\n",
       "    <tr>\n",
       "      <th>12</th>\n",
       "      <td>High</td>\n",
       "      <td>High</td>\n",
       "      <td>High</td>\n",
       "      <td>4</td>\n",
       "    </tr>\n",
       "    <tr>\n",
       "      <th>1</th>\n",
       "      <td>Low</td>\n",
       "      <td>Low</td>\n",
       "      <td>Med</td>\n",
       "      <td>1</td>\n",
       "    </tr>\n",
       "  </tbody>\n",
       "</table>\n",
       "</div>"
      ],
      "text/plain": [
       "   Diameter Shucked_weight Shell_weight  Count\n",
       "2       Med            Low          Low   2164\n",
       "9      High            Med          Med    657\n",
       "6      High            Low          Low    369\n",
       "0       Low            Low          Low    336\n",
       "8      High            Med          Low    307\n",
       "7      High            Low          Med    197\n",
       "11     High           High          Med     40\n",
       "4       Med            Med          Low     37\n",
       "3       Med            Low          Med     34\n",
       "10     High            Med         High     18\n",
       "5       Med            Med          Med     13\n",
       "12     High           High         High      4\n",
       "1       Low            Low          Med      1"
      ]
     },
     "metadata": {},
     "output_type": "display_data"
    }
   ],
   "source": [
    "# To further explain the information above, it is possible to get the\n",
    "# full set of counts for each set of features identified above. \n",
    "\n",
    "det.explain_features(['Diameter', 'Shucked_weight', 'Shell_weight'])"
   ]
  },
  {
   "cell_type": "code",
   "execution_count": null,
   "id": "9acd2143",
   "metadata": {},
   "outputs": [],
   "source": []
  }
 ],
 "metadata": {
  "kernelspec": {
   "display_name": "Python 3 (ipykernel)",
   "language": "python",
   "name": "python3"
  },
  "language_info": {
   "codemirror_mode": {
    "name": "ipython",
    "version": 3
   },
   "file_extension": ".py",
   "mimetype": "text/x-python",
   "name": "python",
   "nbconvert_exporter": "python",
   "pygments_lexer": "ipython3",
   "version": "3.9.6"
  }
 },
 "nbformat": 4,
 "nbformat_minor": 5
}
